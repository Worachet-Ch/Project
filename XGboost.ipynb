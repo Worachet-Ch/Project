{
  "nbformat": 4,
  "nbformat_minor": 0,
  "metadata": {
    "colab": {
      "provenance": [],
      "authorship_tag": "ABX9TyMHQEOCWixDHMVR/80s8dxm",
      "include_colab_link": true
    },
    "kernelspec": {
      "name": "python3",
      "display_name": "Python 3"
    },
    "language_info": {
      "name": "python"
    }
  },
  "cells": [
    {
      "cell_type": "markdown",
      "metadata": {
        "id": "view-in-github",
        "colab_type": "text"
      },
      "source": [
        "<a href=\"https://colab.research.google.com/github/Worachet-Ch/Project/blob/main/XGboost.ipynb\" target=\"_parent\"><img src=\"https://colab.research.google.com/assets/colab-badge.svg\" alt=\"Open In Colab\"/></a>"
      ]
    },
    {
      "cell_type": "code",
      "execution_count": null,
      "metadata": {
        "colab": {
          "base_uri": "https://localhost:8080/"
        },
        "id": "iYmr8jCeP7u0",
        "outputId": "adaf19f1-2116-43b9-dc59-ef4b70943536"
      },
      "outputs": [
        {
          "output_type": "stream",
          "name": "stdout",
          "text": [
            "Drive already mounted at /content/drive; to attempt to forcibly remount, call drive.mount(\"/content/drive\", force_remount=True).\n"
          ]
        },
        {
          "output_type": "stream",
          "name": "stderr",
          "text": [
            "<ipython-input-8-22381b44fb0a>:7: FutureWarning: In a future version of pandas all arguments of DataFrame.drop except for the argument 'labels' will be keyword-only.\n",
            "  data_test.drop('Unnamed: 0',1,inplace = True)\n"
          ]
        }
      ],
      "source": [
        "import pandas as pd\n",
        "import os\n",
        "from google.colab import drive #เชื่อม Google drive\n",
        "drive.mount('/content/drive')\n",
        "path = '/content/drive/My Drive/project2022' #เข้า drive\n",
        "data_test = pd.read_csv(os.path.join(path,'test15.csv'))\n",
        "data_test.drop('Unnamed: 0',1,inplace = True)"
      ]
    },
    {
      "cell_type": "code",
      "source": [
        "from xgboost import XGBRegressor\n",
        "from sklearn import datasets, linear_model\n",
        "from sklearn.model_selection import cross_validate\n",
        "from sklearn.metrics import make_scorer\n",
        "from sklearn.metrics import confusion_matrix\n",
        "from sklearn.svm import LinearSVC\n",
        "from sklearn import metrics\n",
        "from sklearn.metrics import mean_absolute_error\n",
        "from sklearn.model_selection import KFold, GridSearchCV, cross_val_score"
      ],
      "metadata": {
        "id": "ImLqknUrmTcX"
      },
      "execution_count": null,
      "outputs": []
    },
    {
      "cell_type": "code",
      "source": [
        "data_test"
      ],
      "metadata": {
        "id": "Kg-PVyC2a12J"
      },
      "execution_count": null,
      "outputs": []
    },
    {
      "cell_type": "code",
      "source": [
        "def data(Train, Test):\n",
        "  y_train =Train[['telomere length (kb) ']].values.copy() #n = 408\n",
        "  X_train = Train.drop('telomere length (kb) ',axis = 1).values.copy() # n =408\n",
        "  X_test = Test.drop('telomere length (kb) ',axis = 1).values.copy()\n",
        "  y_test = Test[['telomere length (kb) ']].values.copy()\n",
        "  model = XGBRegressor()\n",
        "  param = {'learning_rate': [0.01, 0.1,0.05],\n",
        "        'max_depth': [3, 5, 7, 10],\n",
        "        'min_child_weight': [1, 3, 5],\n",
        "        'subsample': [0.3,0.5, 0.7,1],\n",
        "        'colsample_bytree': [0.1, 0.3, 0.5, 0.7, 0.9],\n",
        "        'n_estimators' : [100,200,300, 500,700,1000],\n",
        "        'seed':[216],'alpha':[0.1, 0.3, 0.5, 0.7, 0.9]}\n",
        "  search = GridSearchCV(model, param, scoring='neg_mean_absolute_error', n_jobs=1, cv=5, refit=True)\n",
        "  result = search.fit(X_train, y_train)\n",
        "  best_model = result.best_estimator_\n",
        "  best_model.fit(X_train,y_train) \n",
        "  scores_mae = cross_val_score(best_model , X_train, y_train, scoring='neg_mean_absolute_error',cv=5 )\n",
        "  y_pred = best_model.predict(X_test)\n",
        "  mae  = metrics.mean_absolute_error(y_test, y_pred)\n",
        "  print('Best model:',best_model)\n",
        "  print(f'score:{scores_mae}')\n",
        "  print(f'Mean score:{scores_mae.mean()}')\n",
        "  print('MAE Test:',mae)"
      ],
      "metadata": {
        "id": "d9yQqlMza2I5"
      },
      "execution_count": null,
      "outputs": []
    },
    {
      "cell_type": "markdown",
      "source": [
        "# พร้อมกันทุกตัวแปร"
      ],
      "metadata": {
        "id": "CJSdA9eKmn1d"
      }
    },
    {
      "cell_type": "code",
      "source": [
        "df_once = pd.read_csv(os.path.join(path,'df_once.csv'))\n",
        "df_once.drop('Unnamed: 0',1,inplace = True)"
      ],
      "metadata": {
        "id": "bq8BBmw2bZ9U"
      },
      "execution_count": null,
      "outputs": []
    },
    {
      "cell_type": "code",
      "source": [
        "df_once"
      ],
      "metadata": {
        "id": "ZbHhkD1hbaQj"
      },
      "execution_count": null,
      "outputs": []
    },
    {
      "cell_type": "code",
      "source": [
        "data(df_once,data_test)"
      ],
      "metadata": {
        "id": "Y62KW9eebbL1"
      },
      "execution_count": null,
      "outputs": []
    },
    {
      "cell_type": "markdown",
      "source": [
        "# ทีละตัวแปร จากค่าว่างมากไปน้อย"
      ],
      "metadata": {
        "id": "5oE0HnaJbcIp"
      }
    },
    {
      "cell_type": "code",
      "source": [
        "df_decreasing = pd.read_csv(os.path.join(path,'df_decreasing.csv'))\n",
        "df_decreasing.drop('Unnamed: 0',1,inplace = True)"
      ],
      "metadata": {
        "id": "CsqPtQXfbdrv"
      },
      "execution_count": null,
      "outputs": []
    },
    {
      "cell_type": "code",
      "source": [
        "df_decreasing"
      ],
      "metadata": {
        "id": "QgmnwoSDbfHl"
      },
      "execution_count": null,
      "outputs": []
    },
    {
      "cell_type": "code",
      "source": [
        "data(df_decreasing,data_test)"
      ],
      "metadata": {
        "id": "rP7rsFEhbf29"
      },
      "execution_count": null,
      "outputs": []
    },
    {
      "cell_type": "markdown",
      "source": [
        "# ทีละตัวแปร จากค่าว่างน้อยไปมาก"
      ],
      "metadata": {
        "id": "fcRaXzMLbgib"
      }
    },
    {
      "cell_type": "code",
      "source": [
        "df_increasing = pd.read_csv(os.path.join(path,'df_increasing.csv'))\n",
        "df_increasing.drop('Unnamed: 0.1',1,inplace = True)\n",
        "df_increasing.drop('Unnamed: 0',1,inplace = True)"
      ],
      "metadata": {
        "id": "Qw_3i0NDbiTN"
      },
      "execution_count": null,
      "outputs": []
    },
    {
      "cell_type": "code",
      "source": [
        "df_increasing"
      ],
      "metadata": {
        "id": "uR9EpEM4bjWq"
      },
      "execution_count": null,
      "outputs": []
    },
    {
      "cell_type": "code",
      "source": [
        "data(df_increasing,data_test)"
      ],
      "metadata": {
        "id": "SRtoPszXbkRT"
      },
      "execution_count": null,
      "outputs": []
    },
    {
      "cell_type": "markdown",
      "source": [
        "# ข้อมูลสุ่มเติมชุด 1"
      ],
      "metadata": {
        "id": "Fp331l6Xblaj"
      }
    },
    {
      "cell_type": "code",
      "source": [
        "df_Random_1 = pd.read_csv(os.path.join(path,'df_Random_1.csv'))\n",
        "df_Random_1.drop('Unnamed: 0',1,inplace = True)"
      ],
      "metadata": {
        "id": "WE-D9Tkebnif"
      },
      "execution_count": null,
      "outputs": []
    },
    {
      "cell_type": "code",
      "source": [
        "df_Random_1"
      ],
      "metadata": {
        "id": "k_pQgDNlboV8"
      },
      "execution_count": null,
      "outputs": []
    },
    {
      "cell_type": "code",
      "source": [
        "data(df_Random_1,data_test)"
      ],
      "metadata": {
        "id": "ZcPAiVnnbpNN"
      },
      "execution_count": null,
      "outputs": []
    },
    {
      "cell_type": "markdown",
      "source": [
        "# ข้อมูลสุ่มเติมชุด 2"
      ],
      "metadata": {
        "id": "hqc6P_trbpmV"
      }
    },
    {
      "cell_type": "code",
      "source": [
        "df_Random_2 = pd.read_csv(os.path.join(path,'df_Random_2.csv'))\n",
        "df_Random_2.drop('Unnamed: 0',1,inplace = True)"
      ],
      "metadata": {
        "id": "ikgQFBMlbrBv"
      },
      "execution_count": null,
      "outputs": []
    },
    {
      "cell_type": "code",
      "source": [
        "df_Random_2"
      ],
      "metadata": {
        "id": "mcvkdm60bs8d"
      },
      "execution_count": null,
      "outputs": []
    },
    {
      "cell_type": "code",
      "source": [
        "data(df_Random_2,data_test)"
      ],
      "metadata": {
        "id": "hdww2msBbtK5"
      },
      "execution_count": null,
      "outputs": []
    },
    {
      "cell_type": "markdown",
      "source": [
        "# ข้อมูลควบคุม"
      ],
      "metadata": {
        "id": "OXF2sf10buNl"
      }
    },
    {
      "cell_type": "code",
      "source": [
        "df_control = pd.read_csv(os.path.join(path,'control.csv'))\n",
        "df_control.drop('Unnamed: 0',1,inplace = True)"
      ],
      "metadata": {
        "id": "FcPDVdmUbwLt"
      },
      "execution_count": null,
      "outputs": []
    },
    {
      "cell_type": "code",
      "source": [
        "df_control"
      ],
      "metadata": {
        "id": "M568goUrbwhV"
      },
      "execution_count": null,
      "outputs": []
    },
    {
      "cell_type": "code",
      "source": [
        "df_control"
      ],
      "metadata": {
        "id": "3GKWGfXjbxhS"
      },
      "execution_count": null,
      "outputs": []
    }
  ]
}